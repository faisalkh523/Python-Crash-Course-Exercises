{
 "cells": [
  {
   "cell_type": "markdown",
   "metadata": {},
   "source": [
    "#  chapter 3: List\n",
    "My chapter 3 practie on list with arewa data science academy from \"Python Crash Course by Eric Matthes\n",
    "\n",
    "### what is a list\n",
    "A list is a collection of items in a particular order. You can make a list that includes the letters of the alphabet, the digits from 0 to 9, or the names of all the people in your family. You can put anything you want into a list, and the items in your list don’t have to be related in any particular way.\n"
   ]
  },
  {
   "cell_type": "code",
   "execution_count": 1,
   "metadata": {},
   "outputs": [
    {
     "name": "stdout",
     "output_type": "stream",
     "text": [
      "['trek', 'cannondale', 'redline', 'specialize']\n"
     ]
    }
   ],
   "source": [
    "# creating a list bicycle\n",
    "bicycles = ['trek', 'cannondale', 'redline', 'specialize']\n",
    "\n",
    "# asking python to print the list\n",
    "print(bicycles)"
   ]
  },
  {
   "cell_type": "markdown",
   "metadata": {},
   "source": [
    "## Accessing Element in a List\n"
   ]
  },
  {
   "cell_type": "code",
   "execution_count": 6,
   "metadata": {},
   "outputs": [
    {
     "name": "stdout",
     "output_type": "stream",
     "text": [
      "trek\n",
      "cannondale\n",
      "specialize\n",
      "specialize\n",
      "cannondale\n"
     ]
    }
   ],
   "source": [
    "# to pull out the first bicycle\n",
    "bicycles = ['trek', 'cannondale', 'redline', 'specialize']\n",
    "print(bicycles[0]) # index position start at 0 not 1\n",
    "print(bicycles[1])\n",
    "print(bicycles[3])\n",
    "\n",
    "# Accessing the last element in a list\n",
    "print(bicycles[-1])  # index -1 is used to access the last item in list\n",
    "print(bicycles[-3])\n"
   ]
  },
  {
   "cell_type": "markdown",
   "metadata": {},
   "source": [
    "# using individual values from a list"
   ]
  },
  {
   "cell_type": "code",
   "execution_count": 9,
   "metadata": {},
   "outputs": [
    {
     "name": "stdout",
     "output_type": "stream",
     "text": [
      "My first bicycle was a Trek.\n"
     ]
    }
   ],
   "source": [
    "bicycles = ['trek', 'cannondale', 'redline', 'specialize']\n",
    "\n",
    "# pulling first item in list and composing a message\n",
    "message = f\"My first bicycle was a {bicycles[0].title()}.\"\n",
    "print(message)"
   ]
  },
  {
   "cell_type": "markdown",
   "metadata": {},
   "source": [
    "## Try it yourself Exercise\n",
    "1. Names: Store the names of a few of your friends in a list called names. Print each person’s name by accessing each element in the list, one at a time.\n",
    "2.  Greetings: Start with the list you used in Exercise 3-1, but instead of just printing each person’s name, print a message to them. The text of each mes-sage should be the same, but each message should be personalized with the person's name.\n",
    "3.  Your Own List: Think of your favorite mode of transportation, such as a motorcycle or a car, and make a list that stores several examples. Use your list to print a series of statements about these items, such as “I would like to own a Honda motorcycle.”"
   ]
  },
  {
   "cell_type": "code",
   "execution_count": 10,
   "metadata": {},
   "outputs": [
    {
     "name": "stdout",
     "output_type": "stream",
     "text": [
      "faisal\n",
      "khalid\n",
      "hassan\n",
      "abdullahi\n"
     ]
    }
   ],
   "source": [
    "# Question 1\n",
    "names = ['faisal', 'khalid', 'hassan', 'abdullahi']\n",
    "print(names[0])\n",
    "print(names[1])\n",
    "print(names[2])\n",
    "print(names[3])"
   ]
  },
  {
   "cell_type": "code",
   "execution_count": 14,
   "metadata": {},
   "outputs": [
    {
     "name": "stdout",
     "output_type": "stream",
     "text": [
      "Good Day Faisal, how are you.\n",
      "Good Day Khalid, how are you.\n",
      "Good Day Hassan, how are you.\n",
      "Good Day Abdullahi, how are you.\n"
     ]
    }
   ],
   "source": [
    "# Question 2\n",
    "names = ['faisal', 'khalid', 'hassan', 'abdullahi']\n",
    "faisal_message = f\"Good Day {names[0].title()}, how are you.\"\n",
    "khalid_message = f\"Good Day {names[1].title()}, how are you.\"\n",
    "hassan_message = f\"Good Day {names[2].title()}, how are you.\"\n",
    "abdullahi_message = f\"Good Day {names[3].title()}, how are you.\"\n",
    "print(faisal_message)\n",
    "print(khalid_message)\n",
    "print(hassan_message)\n",
    "print(abdullahi_message)"
   ]
  },
  {
   "cell_type": "code",
   "execution_count": 34,
   "metadata": {},
   "outputs": [
    {
     "name": "stdout",
     "output_type": "stream",
     "text": [
      "i would like to own a Toyota car.\n",
      "i would likr to own a Royal motorcyle.\n"
     ]
    }
   ],
   "source": [
    "# Question 3\n",
    "motorcycle = ['hajoe', 'lifan', 'royal']\n",
    "car = ['benz', 'toyota', 'honda']\n",
    "\n",
    "opinion = f\"i would like to own a {car[1].title()} car.\"\n",
    "item = f\"i would likr to own a {motorcycle[2].title()} motorcyle.\"\n",
    "print(opinion)\n",
    "print(item)"
   ]
  },
  {
   "cell_type": "markdown",
   "metadata": {},
   "source": [
    "# Modifying, Adding and Removing Elements"
   ]
  },
  {
   "cell_type": "code",
   "execution_count": null,
   "metadata": {},
   "outputs": [
    {
     "name": "stdout",
     "output_type": "stream",
     "text": [
      "['honda', 'yamaha', 'suzuki']\n",
      "['ducati', 'yamaha', 'suzuki']\n"
     ]
    }
   ],
   "source": [
    "# modifying the list\n",
    "motorcycles = ['honda', 'yamaha', 'suzuki']\n",
    "print(motorcycles)\n",
    "\n",
    "# modifying honda with ducati\n",
    "motorcycles[0] = 'ducati'\n",
    "print(motorcycles)"
   ]
  },
  {
   "cell_type": "code",
   "execution_count": 53,
   "metadata": {},
   "outputs": [
    {
     "name": "stdout",
     "output_type": "stream",
     "text": [
      "['honda', 'yamaha', 'suzuki']\n",
      "['honda', 'yamaha', 'suzuki', 'ducati']\n",
      "['honda', 'yamaha', 'suzuki']\n"
     ]
    }
   ],
   "source": [
    "# Adding Element to a list\n",
    "motorcycles = ['honda', 'yamaha', 'suzuki']\n",
    "print(motorcycles)\n",
    "\n",
    "# Adding to the list\n",
    "motorcycles.append('ducati')\n",
    "print(motorcycles)\n",
    "\n",
    "# starting with an empty list\n",
    "motorcycles = []\n",
    "motorcycles.append('honda')\n",
    "motorcycles.append('yamaha')\n",
    "motorcycles.append('suzuki')\n",
    "print(motorcycles)"
   ]
  },
  {
   "cell_type": "code",
   "execution_count": null,
   "metadata": {},
   "outputs": [
    {
     "name": "stdout",
     "output_type": "stream",
     "text": [
      "['ducati', 'honda', 'yamaha', 'suzuki']\n",
      "['honda', 'ducati', 'yamaha', 'suzuki']\n"
     ]
    }
   ],
   "source": [
    "# Inserting element into a list\n",
    "\n",
    "# inserting at the begining\n",
    "motorcycles = ['honda', 'yamaha', 'suzuki']\n",
    "motorcycles.insert(0, 'ducati')\n",
    "print(motorcycles)\n",
    "\n",
    "# inserting as the second item\n",
    "motorcycles = ['honda', 'yamaha', 'suzuki']\n",
    "motorcycles.insert(1, 'ducati')\n",
    "print(motorcycles)"
   ]
  },
  {
   "cell_type": "code",
   "execution_count": null,
   "metadata": {},
   "outputs": [
    {
     "name": "stdout",
     "output_type": "stream",
     "text": [
      "['honda', 'yamaha', 'suzuki']\n",
      "['yamaha', 'suzuki']\n",
      "['honda', 'yamaha']\n"
     ]
    }
   ],
   "source": [
    "# Removing Elements from a list\n",
    "\n",
    "motorcycles = ['honda', 'yamaha', 'suzuki']\n",
    "print(motorcycles)\n",
    "\n",
    "# removing using del statement\n",
    "del motorcycles[0]\n",
    "print(motorcycles)\n",
    "\n",
    "# to delete the third motorcycle\n",
    "motorcycles = ['honda', 'yamaha', 'suzuki']\n",
    "del motorcycles[2]\n",
    "print(motorcycles)"
   ]
  },
  {
   "cell_type": "code",
   "execution_count": 66,
   "metadata": {},
   "outputs": [
    {
     "name": "stdout",
     "output_type": "stream",
     "text": [
      "the last motocycle i bought was Suzuki.\n",
      "['honda', 'yamaha']\n"
     ]
    }
   ],
   "source": [
    "# Removing using pop() method\n",
    "\n",
    "# to print a statement about the last item using pop() method\n",
    "motorcycles = ['honda', 'yamaha', 'suzuki']\n",
    "last_motorcycle = motorcycles.pop()\n",
    "print(f\"the last motocycle i bought was {last_motorcycle.title()}.\")\n",
    "\n",
    "# popping items from any position in a list\n",
    "motorcycles = ['honda', 'yamaha', 'suzuki']\n",
    "motorcycles.pop(2)\n",
    "print(motorcycles)"
   ]
  },
  {
   "cell_type": "code",
   "execution_count": 72,
   "metadata": {},
   "outputs": [
    {
     "name": "stdout",
     "output_type": "stream",
     "text": [
      "['honda', 'yamaha', 'suzuki']\n",
      "['honda', 'suzuki']\n",
      "['honda', 'yamaha', 'suzuki', 'ducati']\n",
      "['honda', 'yamaha', 'suzuki']\n",
      "\n",
      "A Ducati is too expensive for me.\n"
     ]
    }
   ],
   "source": [
    "# Removing item from list by value\n",
    "motorcycles = ['honda', 'yamaha', 'suzuki']\n",
    "print(motorcycles)\n",
    "\n",
    "\n",
    "motorcycles.remove('yamaha') # remove('yamaha') method tell python to find 'yamaha' and remove it \n",
    "print(motorcycles)\n",
    "\n",
    "# using the remove() method to work with a value that's being removed from a list.\n",
    "motorcycles = ['honda', 'yamaha', 'suzuki', 'ducati']\n",
    "print(motorcycles)\n",
    "too_expensive = 'ducati'\n",
    "\n",
    "motorcycles.remove(too_expensive)\n",
    "print(motorcycles)\n",
    "print(f\"\\nA {too_expensive.title()} is too expensive for me.\")\n"
   ]
  },
  {
   "cell_type": "markdown",
   "metadata": {},
   "source": [
    "# Try it yourself exercises\n",
    "4. Guest List: If you could invite anyone, living or deceased, to dinner, who would you invite? Make a list that includes at least three people you’d like to invite to dinner. Then use your list to print a message to each person, inviting them to dinner.\n",
    "\n",
    "5. Changing Guest List: You just heard that one of your guests can’t make the dinner, so you need to send out a new set of invitations. You’ll have to think of someone else to invite.• Start with your program from Exercise 3-4. Add a print() call at the end of your program, stating the name of the guest who can’t make it.• Modify your list, replacing the name of the guest who can’t make it with the name of the new person you are inviting.• Print a second set of invitation messages, one for each person who is still in your list.\n",
    "6. More Guests: You just found a bigger dinner table, so now more space is available. Think of three more guests to invite to dinner.• Start with your program from Exercise 3-4 or 3-5. Add a print() call to the end of your program, informing people that you found a bigger table.• Use insert() to add one new guest to the beginning of your list.• Use insert() to add one new guest to the middle of your list.• Use append() to add one new guest to the end of your list.• Print a new set of invitation messages, one for each person in your list.\n",
    "7. Shrinking Guest List: You just found out that your new dinner table won’t arrive in time for the dinner, and now you have space for only two guests.• Start with your program from Exercise 3-6. Add a new line that prints a message saying that you can invite only two people for dinner.• Use pop() to remove guests from your list one at a time until only two names remain in your list. Each time you pop a name from your list, print a message to that person letting them know you’re sorry you can’t invite them to dinner.• Print a message to each of the two people still on your list, letting them know they’re still invited.• Use del to remove the last two names from your list, so you have an empty list. Print your list to make sure you actually have an empty list at the end of your program.\n",
    "\n"
   ]
  },
  {
   "cell_type": "code",
   "execution_count": 77,
   "metadata": {},
   "outputs": [
    {
     "name": "stdout",
     "output_type": "stream",
     "text": [
      "Dear Yahaya, i am writing to invite you to a dinner.\n",
      "Dear Babangida, i am writing to invite you to a dinner.\n",
      "Dear Aliyu, i am writing to invite you to a dinner.\n"
     ]
    }
   ],
   "source": [
    "# Question 4\n",
    "\n",
    "guest_list = ['yahaya', 'babangida', 'aliyu']\n",
    "first_person = 'yahaya'\n",
    "second_person = 'babangida'\n",
    "third_person = 'aliyu'\n",
    "\n",
    "# printing an invite message to each person\n",
    "print(f\"Dear {first_person.title()}, i am writing to invite you to a dinner.\")\n",
    "print(f\"Dear {second_person.title()}, i am writing to invite you to a dinner.\")\n",
    "print(f\"Dear {third_person.title()}, i am writing to invite you to a dinner.\")"
   ]
  },
  {
   "cell_type": "code",
   "execution_count": 80,
   "metadata": {},
   "outputs": [
    {
     "name": "stdout",
     "output_type": "stream",
     "text": [
      "babangida\n",
      "['yahaya', 'muhammad', 'aliyu']\n",
      "Dear Yahaya, i am writing to invite you to a dinner.\n",
      "Dear Muhammad, i am writing to invite you to a dinner.\n",
      "Dear Aliyu, i am writing to invite you to a dinner.\n"
     ]
    }
   ],
   "source": [
    "# Question 5\n",
    "\n",
    "guest_list = ['yahaya', 'babangida', 'aliyu']\n",
    "print('babangida')\n",
    "\n",
    "# replacing the name\n",
    "guest_list[1] = 'muhammad'\n",
    "print(guest_list)\n",
    "\n",
    "#  printing the second seet of invitation message, one for each person who is still in the list\n",
    "first_person = 'yahaya'\n",
    "second_person = 'muhammad'\n",
    "third_person = 'aliyu'\n",
    "\n",
    "# printing an invite message to each person\n",
    "print(f\"Dear {first_person.title()}, i am writing to invite you to a dinner.\")\n",
    "print(f\"Dear {second_person.title()}, i am writing to invite you to a dinner.\")\n",
    "print(f\"Dear {third_person.title()}, i am writing to invite you to a dinner.\")\n"
   ]
  },
  {
   "cell_type": "code",
   "execution_count": 120,
   "metadata": {},
   "outputs": [
    {
     "name": "stdout",
     "output_type": "stream",
     "text": [
      "['yahaya', 'muhammad', 'aliyu', 'ibrahim', 'isa', 'yusuf']\n",
      "['abdullahi', 'yahaya', 'muhammad', 'aliyu', 'ibrahim', 'isa', 'yusuf']\n",
      "['abdullahi', 'yahaya', 'debora', 'muhammad', 'aliyu', 'ibrahim', 'isa', 'yusuf']\n",
      "['abdullahi', 'yahaya', 'debora', 'muhammad', 'aliyu', 'ibrahim', 'isa', 'yusuf', 'blessing']\n",
      "\n",
      "Dear Abdullahi, i am writing to invite you to a dinner.\n",
      "\n",
      "Dear Yahaya, i am writing to invite you to a dinner.\n",
      "\n",
      "Dear Debora, i am writing to invite you to a dinner.\n",
      "\n",
      "Dear Muhammad, i am writing to invite you to a dinner.\n",
      "\n",
      "Dear Aliyu, i am writing to invite you to a dinner.\n",
      "\n",
      "Dear Ibrahim, i am writing to invite you to a dinner.\n",
      "\n",
      "Dear Isa, i am writing to invite you to a dinner.\n",
      "\n",
      "Dear Yusuf, i am writing to invite you to a dinner.\n",
      "\n",
      "Dear Blessing, i am writing to invite you to a dinner.\n"
     ]
    }
   ],
   "source": [
    "# Question 6\n",
    " \n",
    "more_guests = ['yahaya', 'muhammad', 'aliyu', 'ibrahim', 'isa', 'yusuf']\n",
    "print(more_guests)\n",
    "\n",
    "# inserting a name to the begining\n",
    "more_guests.insert(0, 'abdullahi')\n",
    "print(more_guests)\n",
    "\n",
    "# inserting a name to the middle\n",
    "more_guests.insert(2, 'debora')\n",
    "print(more_guests)\n",
    "\n",
    "# using append\n",
    "more_guests.append('blessing')\n",
    "print(more_guests)\n",
    "\n",
    "# printing new set of invitation to each person\n",
    "first_person = 'abdullahi'\n",
    "second_person = 'yahaya'\n",
    "third_person = 'debora'\n",
    "fourth_person = 'muhammad'\n",
    "fifth_person = 'aliyu'\n",
    "sixth_person = 'ibrahim'\n",
    "seventh_person = 'isa'\n",
    "eight_person = 'yusuf'\n",
    "ninth_person = 'blessing'\n",
    "\n",
    "# printing individual message\n",
    "print()\n",
    "print(f\"Dear {first_person.title()}, i am writing to invite you to a dinner.\")\n",
    "print()\n",
    "print(f\"Dear {second_person.title()}, i am writing to invite you to a dinner.\")\n",
    "print()\n",
    "print(f\"Dear {third_person.title()}, i am writing to invite you to a dinner.\")\n",
    "print()\n",
    "print(f\"Dear {fourth_person.title()}, i am writing to invite you to a dinner.\")\n",
    "print()\n",
    "print(f\"Dear {fifth_person.title()}, i am writing to invite you to a dinner.\")\n",
    "print()\n",
    "print(f\"Dear {sixth_person.title()}, i am writing to invite you to a dinner.\")\n",
    "print()\n",
    "print(f\"Dear {seventh_person.title()}, i am writing to invite you to a dinner.\")\n",
    "print()\n",
    "print(f\"Dear {eight_person.title()}, i am writing to invite you to a dinner.\")\n",
    "print()\n",
    "print(f\"Dear {ninth_person.title()}, i am writing to invite you to a dinner.\")\n"
   ]
  },
  {
   "cell_type": "code",
   "execution_count": 127,
   "metadata": {},
   "outputs": [
    {
     "name": "stdout",
     "output_type": "stream",
     "text": [
      "['yahaya', 'muhammad', 'aliyu', 'ibrahim', 'isa', 'yusuf']\n",
      "\n",
      "you can invite only two people for dinner.\n",
      "\n",
      "\n",
      "['muhammad', 'aliyu', 'ibrahim', 'isa', 'yusuf']\n",
      "'sorry yahaya, i can no longer invite you.'\n",
      "\n",
      "['aliyu', 'ibrahim', 'isa', 'yusuf']\n",
      "'sorry muhammad, i can no longer invite you.'\n",
      "\n",
      "['ibrahim', 'isa', 'yusuf']\n",
      "'sorry aliyu, i can no longer invite you.'\n",
      "\n",
      "['isa', 'yusuf']\n",
      "'sorry ibrahim, i can no longer invite you.'\n",
      "\n",
      "['isa', 'yusuf']\n",
      "Dear Isa, i am writing to invite you to a dinner.\n",
      "Dear Yusuf, i am writing to invite you to a dinner.\n",
      "['yusuf']\n",
      "shrinking_guest_list =  []\n"
     ]
    }
   ],
   "source": [
    "# Question 7\n",
    "\n",
    "shrinking_guest_list = ['yahaya', 'muhammad', 'aliyu', 'ibrahim', 'isa', 'yusuf']\n",
    "print(shrinking_guest_list)\n",
    "print()\n",
    "print(\"you can invite only two people for dinner.\")\n",
    "print()\n",
    "\n",
    "# using pop() to remove guest from the list one at a time until only two people remain\n",
    "shrinking_guest_list = ['yahaya', 'muhammad', 'aliyu', 'ibrahim', 'isa', 'yusuf']\n",
    "print()\n",
    "\n",
    "shrinking_guest_list.pop(0)\n",
    "print(shrinking_guest_list)\n",
    "print(\"'sorry yahaya, i can no longer invite you.'\")\n",
    "print()\n",
    "\n",
    "shrinking_guest_list.pop(0)\n",
    "print(shrinking_guest_list)\n",
    "print(\"'sorry muhammad, i can no longer invite you.'\")\n",
    "print()\n",
    "\n",
    "\n",
    "shrinking_guest_list.pop(0)\n",
    "print(shrinking_guest_list)\n",
    "print(\"'sorry aliyu, i can no longer invite you.'\")\n",
    "print()\n",
    "\n",
    "shrinking_guest_list.pop(0)\n",
    "print(shrinking_guest_list)\n",
    "print(\"'sorry ibrahim, i can no longer invite you.'\")\n",
    "print()\n",
    "\n",
    "# printing message to the only two persons that remains\n",
    "print(shrinking_guest_list)\n",
    "first_person = 'isa'\n",
    "second_person = 'yusuf'\n",
    "\n",
    "print(f\"Dear {first_person.title()}, i am writing to invite you to a dinner.\")\n",
    "print(f\"Dear {second_person.title()}, i am writing to invite you to a dinner.\")\n",
    "\n",
    "# using del to remove the last two names\n",
    "del shrinking_guest_list[0]\n",
    "print(shrinking_guest_list)\n",
    "del shrinking_guest_list[0]\n",
    "print(\"shrinking_guest_list = \", shrinking_guest_list)\n",
    "\n",
    "\n"
   ]
  },
  {
   "cell_type": "markdown",
   "metadata": {},
   "source": [
    "# Organizing a List\n",
    "### Sorting List: \n",
    "\n",
    "permanently with the sort() method\n",
    "Using Python’s sort() method makes it relatively easy to sort a list."
   ]
  },
  {
   "cell_type": "code",
   "execution_count": 1,
   "metadata": {},
   "outputs": [
    {
     "name": "stdout",
     "output_type": "stream",
     "text": [
      "['audi', 'bmw', 'subaru', 'toyota']\n"
     ]
    }
   ],
   "source": [
    "cars = ['bmw', 'audi', 'toyota', 'subaru']\n",
    "cars.sort()\n",
    "print(cars)\n"
   ]
  },
  {
   "cell_type": "markdown",
   "metadata": {},
   "source": [
    "sorting a list in reverse alphabetical order  using sort(reverse-True) method"
   ]
  },
  {
   "cell_type": "code",
   "execution_count": 3,
   "metadata": {},
   "outputs": [
    {
     "name": "stdout",
     "output_type": "stream",
     "text": [
      "['toyota', 'subaru', 'bmw', 'audi']\n"
     ]
    }
   ],
   "source": [
    "cars = ['bmw', 'audi', 'toyota', 'subaru']\n",
    "cars.sort(reverse=True)\n",
    "print(cars)"
   ]
  },
  {
   "cell_type": "markdown",
   "metadata": {},
   "source": [
    "Again the order of the list is permanently changed"
   ]
  },
  {
   "cell_type": "markdown",
   "metadata": {},
   "source": [
    "# Sorting a List Temporarily with the sorted() Function \n",
    "To maintain the original order of a list but present it in a sorted order, you can use the sorted() function. The sorted() function lets you display your list in a particular order, but doesn't affect te actual order of the list."
   ]
  },
  {
   "cell_type": "code",
   "execution_count": 6,
   "metadata": {},
   "outputs": [
    {
     "name": "stdout",
     "output_type": "stream",
     "text": [
      "Here is the original list.\n",
      "['bmw', 'audi', 'toyota', 'subaru']\n",
      "\n",
      "Here is the sorted list:\n",
      "['audi', 'bmw', 'subaru', 'toyota']\n",
      "\n",
      "Here is the original list again:\n",
      "['bmw', 'audi', 'toyota', 'subaru']\n"
     ]
    }
   ],
   "source": [
    "cars = ['bmw', 'audi', 'toyota', 'subaru']\n",
    "print(\"Here is the original list.\")\n",
    "print(cars)\n",
    "\n",
    "print(\"\\nHere is the sorted list:\")\n",
    "print(sorted(cars))\n",
    "\n",
    "print(\"\\nHere is the original list again:\")\n",
    "print(cars)"
   ]
  },
  {
   "cell_type": "code",
   "execution_count": 7,
   "metadata": {},
   "outputs": [
    {
     "name": "stdout",
     "output_type": "stream",
     "text": [
      "['subaru', 'toyota', 'audi', 'bmw']\n"
     ]
    }
   ],
   "source": [
    "# printing list in reverse order using reverse() method\n",
    "cars = ['bmw', 'audi', 'toyota', 'subaru']\n",
    "cars.reverse()\n",
    "print(cars)"
   ]
  },
  {
   "cell_type": "markdown",
   "metadata": {},
   "source": [
    "Finding the length of the list"
   ]
  },
  {
   "cell_type": "code",
   "execution_count": 8,
   "metadata": {},
   "outputs": [
    {
     "data": {
      "text/plain": [
       "4"
      ]
     },
     "execution_count": 8,
     "metadata": {},
     "output_type": "execute_result"
    }
   ],
   "source": [
    "cars = ['bmw', 'audi', 'toyota', 'subaru']\n",
    "len(cars)"
   ]
  },
  {
   "cell_type": "markdown",
   "metadata": {},
   "source": [
    "# Try it yourself exercise"
   ]
  },
  {
   "cell_type": "markdown",
   "metadata": {},
   "source": [
    "8. Seeing the World: Think of at least five places in the world you’d like  to visit.• Store the locations in a list. Make sure the list is not in alphabetical order.• Print your list in its original order. Don’t worry about printing the list neatly; just print it as a raw Python list.• Use sorted() to print your list in alphabetical order without modifying the actual list.• Show that your list is still in its original order by printing it.• Use sorted() to print your list in reverse-alphabetical order without chang-ing the order of the original list.• Show that your list is still in its original order by printing it again.• Use reverse() to change the order of your list. Print the list to show that its order has changed.• Use reverse() to change the order of your list again. Print the list to show it’s back to its original order.• Use sort() to change your list so it’s stored in alphabetical order. Print the list to show that its order has been changed.• Use sort() to change your list so it’s stored in reverse-alphabetical order. Print the list to show that its order has changed.\n",
    "9. Dinner Guests: Working with one of the programs from Exercises 4 through 7 (pages 41–42), use len() to print a message indicating the number of people you’re inviting to dinner.\n",
    "10. Every Function: Think of things you could store in a list. For example, you could make a list of mountains, rivers, countries, cities, languages, or anything else you’d like. Write a program that creates a list containing these items and then uses each function introduced in this chapter at least once.\n"
   ]
  },
  {
   "cell_type": "code",
   "execution_count": 30,
   "metadata": {},
   "outputs": [
    {
     "name": "stdout",
     "output_type": "stream",
     "text": [
      "this is the original list.\n",
      "['canada', 'dubai', 'belgium', 'america']\n",
      "\n",
      "this is the sorted list.\n",
      "['america', 'belgium', 'canada', 'dubai']\n",
      "\n",
      "This is again the original list.\n",
      "['canada', 'dubai', 'belgium', 'america']\n",
      "\n",
      "this is the reverse list.\n",
      "['america', 'belgium', 'dubai', 'canada']\n",
      "\n",
      "this is the revers list again.\n",
      "['canada', 'dubai', 'belgium', 'america']\n",
      "\n",
      "this the list using the sort():\n",
      "['america', 'belgium', 'canada', 'dubai']\n",
      "\n",
      "this is the reverse sorted list:\n",
      "['dubai', 'canada', 'belgium', 'america']\n"
     ]
    }
   ],
   "source": [
    "# Question 8\n",
    "countries = ['canada','dubai', 'belgium', 'america', ]\n",
    "print(\"this is the original list.\")\n",
    "print(countries)\n",
    "print()\n",
    "\n",
    "# using sorted() method\n",
    "print(\"this is the sorted list.\")\n",
    "print(sorted(countries))\n",
    "print()\n",
    "\n",
    "# showing that the original list in its order\n",
    "print(\"This is again the original list.\")\n",
    "print(countries)\n",
    "print()\n",
    "\n",
    "# using reverse to change order of the list\n",
    "print(\"this is the reverse list.\")\n",
    "countries.reverse()\n",
    "print(countries)\n",
    "print()\n",
    "\n",
    "# this is the reverse list again\n",
    "print(\"this is the revers list again.\")\n",
    "countries.reverse()\n",
    "print(countries)\n",
    "print()\n",
    "\n",
    "# using sort() to change list so it stored in alphabetical order\n",
    "countries.sort()\n",
    "print(\"this the list using the sort():\")\n",
    "print(countries)\n",
    "print()\n",
    "\n",
    "# using sort() to change list so it stored in alphabetical order\n",
    "countries.sort(reverse=True)\n",
    "print(\"this is the reverse sorted list:\")\n",
    "print(countries)\n",
    "\n"
   ]
  },
  {
   "cell_type": "code",
   "execution_count": 34,
   "metadata": {},
   "outputs": [
    {
     "name": "stdout",
     "output_type": "stream",
     "text": [
      "the number og guest in the guest_list invited is:\n",
      "3\n",
      "\n",
      "the number og guest in the guest_list_replace invited is:\n",
      "3\n",
      "\n",
      "the number og guest in the more_guests invited is:\n",
      "6\n",
      "\n",
      "the number og guest in the shrinking_guest_list invited is:\n",
      "6\n",
      "\n"
     ]
    }
   ],
   "source": [
    "# Question 9\n",
    "guest_list = ['yahaya', 'babangida', 'aliyu']\n",
    "guest_list_replace = ['yahaya', 'muhammad', 'aliyu']\n",
    "more_guests = ['yahaya', 'muhammad', 'aliyu', 'ibrahim', 'isa', 'yusuf']\n",
    "shrinking_guest_list = ['yahaya', 'muhammad', 'aliyu', 'ibrahim', 'isa', 'yusuf']\n",
    "\n",
    "print(\"the number og guest in the guest_list invited is:\")\n",
    "print(len(guest_list))\n",
    "print()\n",
    "\n",
    "print(\"the number og guest in the guest_list_replace invited is:\")\n",
    "print(len(guest_list_replace))\n",
    "print()\n",
    "\n",
    "print(\"the number og guest in the more_guests invited is:\")\n",
    "print(len(more_guests))\n",
    "print()\n",
    "\n",
    "print(\"the number og guest in the shrinking_guest_list invited is:\")\n",
    "print(len(shrinking_guest_list))\n",
    "print()\n"
   ]
  },
  {
   "cell_type": "code",
   "execution_count": 52,
   "metadata": {},
   "outputs": [
    {
     "name": "stdout",
     "output_type": "stream",
     "text": [
      "this is the original list\n",
      "['kilimanjaro', 'aso rock']\n",
      "\n",
      "Kilimanjaro\n",
      "\n",
      "this is the result from using del[1]:\n",
      "['kilimanjaro']\n",
      "\n",
      "this is the result from using pop():\n",
      "aso rock\n",
      "\n",
      "the result from remove('kilimanjaro'):\n",
      "['aso rock']\n",
      "\n",
      "result from sorted():\n",
      "['aso rock', 'kilimangaro']\n",
      "\n",
      "result from reverse():\n",
      "['aso rock', 'kilimangaro']\n",
      "\n",
      "result from sort():\n",
      "['aso rock', 'kilimangaro']\n",
      "\n",
      "result from sort(reverse=True)\n",
      "['kilimangaro', 'aso rock']\n"
     ]
    }
   ],
   "source": [
    "# Question 10\n",
    "\n",
    "# writing a list containing the listed items\n",
    "mountains = ['kilimanjaro', 'aso rock']\n",
    "rivers = ['kianji', 'shiroro', 'dadinkowa']\n",
    "countries = ['nigeria', 'dubai', 'saudi']\n",
    "cities = ['kano', 'abu-dhabi', 'dammam']\n",
    "languages = ['arabic', 'hausa', 'english']\n",
    "\n",
    "# using every function on mountain\n",
    "mountains = ['kilimanjaro', 'aso rock']\n",
    "print(\"this is the original list\")\n",
    "print(mountains)\n",
    "print()\n",
    "\n",
    "# .title()\n",
    "print(mountains[0].title())\n",
    "print()\n",
    "\n",
    "# del function\n",
    "del mountains[1]\n",
    "print(\"this is the result from using del[1]:\")\n",
    "print(mountains)\n",
    "print()\n",
    "\n",
    "# pop()\n",
    "mountains = ['kilimanjaro', 'aso rock']\n",
    "function = mountains.pop(1)\n",
    "print(\"this is the result from using pop():\")\n",
    "print(function)\n",
    "print()\n",
    "\n",
    "# remove()\n",
    "mountains = ['kilimanjaro', 'aso rock']\n",
    "print(\"the result from remove('kilimanjaro'):\")\n",
    "mountains.remove(\"kilimanjaro\")\n",
    "print(mountains)\n",
    "print()\n",
    "\n",
    "# sort()\n",
    "mountains = ['kilimangaro', 'aso rock']\n",
    "print(\"result from sorted():\")\n",
    "print(sorted(mountains))\n",
    "print()\n",
    "\n",
    "# reverse()\n",
    "mountains = ['kilimangaro', 'aso rock']\n",
    "print(\"result from reverse():\")\n",
    "mountains.reverse()\n",
    "print(mountains)\n",
    "print()\n",
    "\n",
    "# sort()\n",
    "mountains = ['kilimangaro', 'aso rock']\n",
    "print(\"result from sort():\")\n",
    "mountains.sort()\n",
    "print(mountains)\n",
    "print()\n",
    "\n",
    "# sort(reverse=True)\n",
    "mountains = ['kilimangaro', 'aso rock']\n",
    "print(\"result from sort(reverse=True)\")\n",
    "mountains.sort(reverse=True)\n",
    "print(mountains)\n",
    "\n"
   ]
  },
  {
   "cell_type": "code",
   "execution_count": 59,
   "metadata": {},
   "outputs": [
    {
     "name": "stdout",
     "output_type": "stream",
     "text": [
      "result using title()\n",
      "Shiroro\n",
      "\n",
      "result from del:\n",
      "['shiroro', 'dadinkowa']\n",
      "\n",
      "result from pop(2):\n",
      "dadinkowa\n",
      "\n",
      "result from remove('shiroro'):\n",
      "['kianji', 'dadinkowa']\n",
      "\n",
      "result from sorted():\n",
      "['dadinkowa', 'kianji', 'shiroro']\n",
      "\n",
      "result from reverse:\n",
      "['dadinkowa', 'shiroro', 'kianji']\n",
      "\n",
      "result from sort:\n",
      "['dadinkowa', 'kianji', 'shiroro']\n",
      "\n",
      "result from sort(reverse=True)\n",
      "['shiroro', 'kianji', 'dadinkowa']\n"
     ]
    }
   ],
   "source": [
    "# using the functions on rivers\n",
    "\n",
    "rivers = ['kianji', 'shiroro', 'dadinkowa']\n",
    "\n",
    "# title()\n",
    "print(\"result using title()\")\n",
    "print(rivers[1].title())\n",
    "print()\n",
    "\n",
    "# del \n",
    "rivers = ['kianji', 'shiroro', 'dadinkowa']\n",
    "print(\"result from del:\")\n",
    "del rivers[0]\n",
    "print(rivers)\n",
    "print()\n",
    "\n",
    "# pop\n",
    "rivers = ['kianji', 'shiroro', 'dadinkowa']\n",
    "print(\"result from pop(2):\")\n",
    "third = rivers.pop(2)\n",
    "print(third)\n",
    "print()\n",
    "\n",
    "# remove\n",
    "rivers = ['kianji', 'shiroro', 'dadinkowa']\n",
    "print(\"result from remove('shiroro'):\")\n",
    "rivers.remove(\"shiroro\")\n",
    "print(rivers)\n",
    "print()\n",
    "\n",
    "# sorted\n",
    "rivers = ['kianji', 'shiroro', 'dadinkowa']\n",
    "print(\"result from sorted():\")\n",
    "print(sorted(rivers))\n",
    "print()\n",
    "\n",
    "# reverse()\n",
    "rivers = ['kianji', 'shiroro', 'dadinkowa']\n",
    "print('result from reverse:')\n",
    "rivers.reverse()\n",
    "print(rivers)\n",
    "print()\n",
    "\n",
    "# sort()\n",
    "rivers = ['kianji', 'shiroro', 'dadinkowa']\n",
    "print(\"result from sort:\")\n",
    "rivers.sort()\n",
    "print(rivers)\n",
    "print()\n",
    "\n",
    "# sort (reverse=True)\n",
    "rivers = ['kianji', 'shiroro', 'dadinkowa']\n",
    "print(\"result from sort(reverse=True)\")\n",
    "rivers.sort(reverse=True)\n",
    "print(rivers)\n"
   ]
  },
  {
   "cell_type": "code",
   "execution_count": 18,
   "metadata": {},
   "outputs": [
    {
     "name": "stdout",
     "output_type": "stream",
     "text": [
      "Nigeria\n",
      "\n",
      "['nigeria', 'dubai']\n",
      "\n",
      "dubai\n",
      "\n",
      "['nigeria', 'dubai']\n",
      "\n",
      "['dubai', 'nigeria', 'saudi']\n",
      "\n",
      "['saudi', 'nigeria', 'dubai']\n",
      "\n",
      "result using sorted():\n",
      "['dubai', 'nigeria', 'saudi']\n",
      "\n",
      "result using revesrse():\n",
      "['saudi', 'dubai', 'nigeria']\n"
     ]
    }
   ],
   "source": [
    "# using the functions on countries\n",
    "\n",
    "countries = ['nigeria', 'dubai', 'saudi']\n",
    "\n",
    "# title\n",
    "print(countries[0].title())\n",
    "print()\n",
    "\n",
    "# del\n",
    "countries = ['nigeria', 'dubai', 'saudi']\n",
    "del countries[2]\n",
    "print(countries)\n",
    "print()\n",
    "\n",
    "# pop\n",
    "second = countries.pop(1)\n",
    "print(second)\n",
    "print()\n",
    "\n",
    "# remove\n",
    "countries = ['nigeria', 'dubai', 'saudi']\n",
    "countries.remove('saudi')\n",
    "print(countries)\n",
    "print()\n",
    "\n",
    "# sort \n",
    "countries = ['nigeria', 'dubai', 'saudi']\n",
    "countries.sort()\n",
    "print(countries)\n",
    "print()\n",
    "\n",
    "# sort(reverse=True)\n",
    "countries = ['nigeria', 'dubai', 'saudi']\n",
    "countries.sort(reverse=True)\n",
    "print(countries)\n",
    "print()\n",
    "\n",
    "# sorted()\n",
    "countries = ['nigeria', 'dubai', 'saudi']\n",
    "print(\"result using sorted():\")\n",
    "print(sorted(countries))\n",
    "print()\n",
    "\n",
    "# reverse()\n",
    "countries = ['nigeria', 'dubai', 'saudi']\n",
    "print(\"result using revesrse():\")\n",
    "countries.reverse()\n",
    "print(countries)"
   ]
  }
 ],
 "metadata": {
  "kernelspec": {
   "display_name": "base",
   "language": "python",
   "name": "python3"
  },
  "language_info": {
   "codemirror_mode": {
    "name": "ipython",
    "version": 3
   },
   "file_extension": ".py",
   "mimetype": "text/x-python",
   "name": "python",
   "nbconvert_exporter": "python",
   "pygments_lexer": "ipython3",
   "version": "3.12.7"
  }
 },
 "nbformat": 4,
 "nbformat_minor": 2
}
